{
 "cells": [
  {
   "cell_type": "code",
   "execution_count": 1,
   "id": "470abe6e",
   "metadata": {},
   "outputs": [],
   "source": [
    "# function for Taylor's method\n",
    "\n",
    "def f(s,z,w):\n",
    "    if s == 0:\n",
    "        return 0\n",
    "    \n",
    "    return 2/(sigma**2 * s**2) * (-r*s*z + r*w)\n",
    "\n",
    "def f_prime_1(s,z,w):\n",
    "    if s == 0:\n",
    "        return 0\n",
    "    \n",
    "    return -(2*r/sigma**2 + 2)/s * f(s,z,w)\n",
    "\n",
    "def f_prime_2(s,z,w):\n",
    "    if s == 0:\n",
    "        return 0\n",
    "    \n",
    "    return -(2*r/sigma**2 + 3)/s * f_prime_1(s,z,w)\n",
    "\n",
    "def f_prime_3(s,z,w):\n",
    "    if s == 0:\n",
    "        return 0\n",
    "    \n",
    "    return -(2*r/sigma**2 + 4)/s * f_prime_2(s,z,w)"
   ]
  },
  {
   "cell_type": "code",
   "execution_count": 2,
   "id": "43a4e7e9",
   "metadata": {},
   "outputs": [
    {
     "ename": "NameError",
     "evalue": "name 'N' is not defined",
     "output_type": "error",
     "traceback": [
      "\u001b[1;31m---------------------------------------------------------------------------\u001b[0m",
      "\u001b[1;31mNameError\u001b[0m                                 Traceback (most recent call last)",
      "\u001b[1;32m~\\AppData\\Local\\Temp/ipykernel_33772/59184042.py\u001b[0m in \u001b[0;36m<module>\u001b[1;34m\u001b[0m\n\u001b[0;32m      1\u001b[0m \u001b[1;31m# Taylor 2\u001b[0m\u001b[1;33m\u001b[0m\u001b[1;33m\u001b[0m\u001b[0m\n\u001b[0;32m      2\u001b[0m \u001b[1;33m\u001b[0m\u001b[0m\n\u001b[1;32m----> 3\u001b[1;33m \u001b[1;32mfor\u001b[0m \u001b[0mi\u001b[0m \u001b[1;32min\u001b[0m \u001b[0mrange\u001b[0m\u001b[1;33m(\u001b[0m\u001b[0mN\u001b[0m\u001b[1;33m+\u001b[0m\u001b[1;36m1\u001b[0m\u001b[1;33m)\u001b[0m\u001b[1;33m:\u001b[0m\u001b[1;33m\u001b[0m\u001b[1;33m\u001b[0m\u001b[0m\n\u001b[0m\u001b[0;32m      4\u001b[0m     \u001b[1;32mif\u001b[0m \u001b[1;33m(\u001b[0m\u001b[0ms_start\u001b[0m \u001b[1;33m+\u001b[0m \u001b[0mi\u001b[0m\u001b[1;33m*\u001b[0m\u001b[0mds\u001b[0m\u001b[1;33m)\u001b[0m \u001b[1;33m>=\u001b[0m \u001b[0mk\u001b[0m\u001b[1;33m:\u001b[0m\u001b[1;33m\u001b[0m\u001b[1;33m\u001b[0m\u001b[0m\n\u001b[0;32m      5\u001b[0m         \u001b[0mW\u001b[0m\u001b[1;33m[\u001b[0m\u001b[0mi\u001b[0m\u001b[1;33m]\u001b[0m \u001b[1;33m=\u001b[0m \u001b[0ms_start\u001b[0m \u001b[1;33m+\u001b[0m \u001b[0mi\u001b[0m\u001b[1;33m*\u001b[0m\u001b[0mds\u001b[0m \u001b[1;33m-\u001b[0m \u001b[0mk\u001b[0m\u001b[1;33m\u001b[0m\u001b[1;33m\u001b[0m\u001b[0m\n",
      "\u001b[1;31mNameError\u001b[0m: name 'N' is not defined"
     ]
    }
   ],
   "source": [
    "# Taylor 2\n",
    "\n",
    "for i in range(N+1):\n",
    "    if (s_start + i*ds) >= k:\n",
    "        W[i] = s_start + i*ds - k\n",
    "        s_second_partial[i] = 1\n",
    "\n",
    "\n",
    "plot(s, W,'-b')\n",
    "title('W(x) at time = ' + str(round(time, 5)))\n",
    "axis((70, 130, 0, 50))\n",
    "pause(1)\n",
    "\n",
    "while time < t_end:\n",
    "    time = time + dt\n",
    "    stock = s_start\n",
    "    for i in range(N-1):\n",
    "        s_first_partial[i+2] = W[i+1] + ds*s_second_partial[i]\n",
    "        s_second_partial[i+1] = s_second_partial[i] + ds*f(stock, s_second_partial[i], W[i])\n",
    "        stock = stock + ds\n",
    "    \n",
    "    for i in range(N+1):\n",
    "        W[i] = W[i] + dt*s_first_partial[i]\n",
    "        \n",
    "    W[0] = 0; W[N] = (W[N-1]-W[N-2]) + W[N-1]\n",
    "    clf()\n",
    "    plot(s, W,'-b')\n",
    "    title('W(x) at time = ' + str(round(time, 5)))\n",
    "    axis((70, 130, 0, 50))\n",
    "    pause(0.001)"
   ]
  },
  {
   "cell_type": "code",
   "execution_count": null,
   "id": "d7196f42",
   "metadata": {},
   "outputs": [],
   "source": [
    "#Taylor 4\n",
    "\n",
    "for i in range(N+1):\n",
    "    if (s_start + i*ds) >= k:\n",
    "        W[i] = s_start + i*ds - k\n",
    "\n",
    "\n",
    "plot(s, W,'-b')\n",
    "title('W(x) at time = ' + str(round(time, 5)))\n",
    "axis((70, 130, 0, 50))\n",
    "pause(3)\n",
    "\n",
    "while time < t_end:\n",
    "    time = time + dt\n",
    "    stock = s_start\n",
    "    for i in range(N-1):\n",
    "        s_first_partial[i+2] = W[i+1] + ds*(s_second_partial[i] + ds/2*f(stock, s_second_partial[i], W[i]) + ds/2*f_prime_1(stock, s_second_partial[i], W[i]) + ds**2/6*f_prime_2(stock, s_second_partial[i], W[i]))\n",
    "        s_second_partial[i+1] = s_second_partial[i] + ds*(f(stock, s_second_partial[i], W[i]) + ds/2*f_prime_1(stock, s_second_partial[i], W[i]) + ds**2/6*f_prime_2(stock, s_second_partial[i], W[i]) + ds**3/24*f_prime_3(stock, s_second_partial[i], W[i]))\n",
    "        stock = stock + ds\n",
    "    \n",
    "    for i in range(N+1):\n",
    "        W[i] = W[i] + dt*s_first_partial[i]\n",
    "        \n",
    "    W[0] = 0; W[N] = (W[N-1]-W[N-2]) + W[N-1]\n",
    "    clf()\n",
    "    plot(s, W,'-b')\n",
    "    title('W(x) at time = ' + str(round(time, 5)))\n",
    "    axis((70, 130, 0, 50))\n",
    "    pause(0.001)"
   ]
  }
 ],
 "metadata": {
  "kernelspec": {
   "display_name": "Python 3 (ipykernel)",
   "language": "python",
   "name": "python3"
  },
  "language_info": {
   "codemirror_mode": {
    "name": "ipython",
    "version": 3
   },
   "file_extension": ".py",
   "mimetype": "text/x-python",
   "name": "python",
   "nbconvert_exporter": "python",
   "pygments_lexer": "ipython3",
   "version": "3.9.7"
  }
 },
 "nbformat": 4,
 "nbformat_minor": 5
}
