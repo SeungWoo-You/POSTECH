{
 "cells": [
  {
   "cell_type": "code",
   "execution_count": 226,
   "id": "b943182b",
   "metadata": {},
   "outputs": [],
   "source": [
    "from numpy import *\n",
    "from pylab import *\n",
    "from math import erf\n",
    "import pandas as pd"
   ]
  },
  {
   "cell_type": "code",
   "execution_count": 227,
   "id": "9830850a",
   "metadata": {},
   "outputs": [
    {
     "name": "stdout",
     "output_type": "stream",
     "text": [
      "Using matplotlib backend: Qt5Agg\n",
      "Populating the interactive namespace from numpy and matplotlib\n"
     ]
    },
    {
     "name": "stderr",
     "output_type": "stream",
     "text": [
      "D:\\Program Files (x86)\\anaconda3\\lib\\site-packages\\IPython\\core\\magics\\pylab.py:159: UserWarning: pylab import has clobbered these variables: ['fft', 'power', 'random', 'linalg']\n",
      "`%matplotlib` prevents importing * from pylab and numpy\n",
      "  warn(\"pylab import has clobbered these variables: %s\"  % clobbered +\n"
     ]
    }
   ],
   "source": [
    "%pylab"
   ]
  },
  {
   "cell_type": "code",
   "execution_count": 228,
   "id": "c65a2e1f",
   "metadata": {},
   "outputs": [],
   "source": [
    "# constant cell\n",
    "\n",
    "r = 0.07\n",
    "sigma = 0.09\n",
    "k = 120\n",
    "\n",
    "N = 70\n",
    "s_start = 0\n",
    "s_end = 490\n",
    "s = linspace(s_start, s_end, N + 1)\n",
    "ds = abs(s_end - s_start)/N  # ds, uniform gri\n",
    "\n",
    "M = 100\n",
    "m = linspace(1,M+1, M+1)\n",
    "t_start = 0\n",
    "t_end = 1  # T\n",
    "time = 0\n",
    "t = linspace(t_start, t_end, M + 1)\n",
    "dt = abs(t_end - t_start)/M  # dt, uniform grid"
   ]
  },
  {
   "cell_type": "code",
   "execution_count": 229,
   "id": "a35d05ce",
   "metadata": {},
   "outputs": [],
   "source": [
    "# function cell for Euler's method\n",
    "\n",
    "V = [0 for i in range(N + 1)]  # exact solution V(s, T-t)\n",
    "W = [0 for i in range(N + 1)]  # numerical solution W(s, T-t)\n",
    "s_second_partial = [0 for i in range(N + 1)]\n",
    "s_first_partial = [0 for i in range(N + 1)]\n",
    "time_error = [0 for i in range(M + 1)]\n",
    "log_E = [0 for i in range(M + 1)]"
   ]
  },
  {
   "cell_type": "code",
   "execution_count": 230,
   "id": "f9de57cd",
   "metadata": {},
   "outputs": [],
   "source": [
    "def aprx_func(W):\n",
    "    for i in range(1,N):\n",
    "        s_second_partial[i] = (W[i+1] - 2*W[i] + W[i-1])/ds**2 # midpoint formula for second order\n",
    "        s_first_partial[i] = (W[i+1] - W[i-1])/(2*ds) # midpoint formula for first order\n",
    "    \n",
    "    return 1/2 * sigma**2 * (s*s)*s_second_partial + r*s*s_first_partial - r*float_(W)\n",
    "\n",
    "def normal_dist(x):\n",
    "    return (1.0 + erf(x / sqrt(2.0))) / 2.0\n",
    "\n",
    "def CDF(t, idx):\n",
    "    arr = [0 for i in range(N + 1)]\n",
    "    for i in range(1, N+1):\n",
    "        if idx == 1:\n",
    "            arr[i] = normal_dist((log(s[i]/k) + (r + sigma**2 / 2)*t)/(sigma*sqrt(t)))\n",
    "            #sym.erf((log(s[i]/k) + (r + sigma**2 / 2)*t)/(sigma*sqrt(t)))\n",
    "        else:\n",
    "            arr[i] = normal_dist((log(s[i]/k) + (r - sigma**2 / 2)*t)/(sigma*sqrt(t)))\n",
    "            #sym.erf((log(s[i]/k) + (r - sigma**2 / 2)*t)/(sigma*sqrt(t)))\n",
    "            \n",
    "    return arr\n",
    "\n",
    "def exact_func(t):\n",
    "    return s*float_(CDF(t,1)) - k*exp(-r*t)*float_(CDF(t,2))"
   ]
  },
  {
   "cell_type": "code",
   "execution_count": 231,
   "id": "c5af6224",
   "metadata": {},
   "outputs": [],
   "source": [
    "time = 0\n",
    "#clf()\n",
    "for i in range(N+1):\n",
    "    if (s_start + i*ds) >= k:\n",
    "        W[i] = s_start + i*ds - k\n",
    "        V[i] = W[i]\n",
    "    else:\n",
    "        W[i] = 0\n",
    "        V[i] = W[i]\n",
    "        \n",
    "#plot(s,W,'c', linestyle = '--',linewidth = 5, label = 'numerical')\n",
    "#plot(s,V,'r', linestyle = ':', linewidth = 3, label = 'exact')\n",
    "#title('W(x) at time = ' + str(round(time, 2)))\n",
    "#legend()\n",
    "#axis((90, 150, 0, 45))\n",
    "#pause(1)"
   ]
  },
  {
   "cell_type": "code",
   "execution_count": 232,
   "id": "ff138d6b",
   "metadata": {},
   "outputs": [
    {
     "data": {
      "text/plain": [
       "<matplotlib.legend.Legend at 0x1acc8fa5df0>"
      ]
     },
     "execution_count": 232,
     "metadata": {},
     "output_type": "execute_result"
    }
   ],
   "source": [
    "# RK2 for midpoint method\n",
    "clf()\n",
    "i = 1\n",
    "while time < t_end:\n",
    "    time = time + dt\n",
    "    \n",
    "    RK1 = aprx_func(W)\n",
    "    RK2 = aprx_func(W + dt/2 * RK1)\n",
    "    \n",
    "    W = W + dt*RK2\n",
    "    W[0] = 0; W[N] = (W[N-1]-W[N-2]) + W[N-1]\n",
    "    \n",
    "    V = exact_func(time)\n",
    "    time_error[M-i] = sum(abs(V-W))\n",
    "    i = i+1\n",
    "    #clf()\n",
    "   # plot(s,W,'c', linestyle = '--',linewidth = 5, label = 'numerical')\n",
    "    #plot(s,V,'r', linestyle = ':', linewidth = 3, label = 'exact')\n",
    "    #title('W(x) at time = ' + str(round(time, 2)))\n",
    "    #axis((90, 150, 0, 45))\n",
    "    #legend()\n",
    "    #pause(0.001)\n",
    "plot(t,time_error,linestyle='--',linewidth = 1.8, label='RK2')\n",
    "legend()"
   ]
  },
  {
   "cell_type": "code",
   "execution_count": 233,
   "id": "d0bd9a82",
   "metadata": {},
   "outputs": [
    {
     "data": {
      "text/plain": [
       "<matplotlib.legend.Legend at 0x1accb9789d0>"
      ]
     },
     "execution_count": 233,
     "metadata": {},
     "output_type": "execute_result"
    }
   ],
   "source": [
    "# RK3\n",
    "i=1\n",
    "while time < t_end:\n",
    "    time = time + dt\n",
    "    \n",
    "    RK1 = aprx_func(W)\n",
    "    RK2 = aprx_func(W + dt * RK1)\n",
    "    RK3 = aprx_func(W + dt/2 * (RK1 + RK2)/2)\n",
    "    \n",
    "    W = W + dt/6 * (RK1 + RK2 + 4*RK3)\n",
    "    W[0] = 0; W[N] = (W[N-1]-W[N-2]) + W[N-1]\n",
    "    \n",
    "    V = exact_func(time)\n",
    "    time_error[M-i] = sum(abs(V-W))\n",
    "    i = i+1\n",
    "    \n",
    "    #clf()\n",
    "    #plot(s,W,'c', linestyle = '--',linewidth = 5, label = 'numerical')\n",
    "    #plot(s,V,'r', linestyle = ':', linewidth = 3, label = 'exact')\n",
    "    #title('W(x) at time = ' + str(round(time, 2)))\n",
    "    #axis((90, 150, 0, 45))\n",
    "    #legend()\n",
    "    #pause(0.001)\n",
    "    \n",
    "plot(t,time_error,linestyle='--',linewidth = 1.8, label='RK3')\n",
    "legend()"
   ]
  },
  {
   "cell_type": "code",
   "execution_count": 235,
   "id": "aa2ee2c0",
   "metadata": {},
   "outputs": [
    {
     "data": {
      "text/plain": [
       "<matplotlib.legend.Legend at 0x1accb97f160>"
      ]
     },
     "execution_count": 235,
     "metadata": {},
     "output_type": "execute_result"
    }
   ],
   "source": [
    "# RK4\n",
    "i=1\n",
    "while time < t_end:\n",
    "    time = time + dt\n",
    "    \n",
    "    RK1 = aprx_func(W)\n",
    "    RK2 = aprx_func(W + dt/2 * RK1)\n",
    "    RK3 = aprx_func(W + dt/2 * RK2)\n",
    "    RK4 = aprx_func(W + dt * RK3)\n",
    "    \n",
    "    W = W + dt/6 * (RK1 + 2*RK2 + 2*RK3 + RK4)\n",
    "    W[0] = 0; W[N] = (W[N-1]-W[N-2]) + W[N-1]\n",
    "    \n",
    "    V = exact_func(time)\n",
    "    time_error[M-i] = sum(abs(V-W))\n",
    "    i = i+1\n",
    "    #time_error[i] = sum(abs(V-W))\n",
    "    #i = i+1\n",
    "    \n",
    "    #clf()\n",
    "    #plot(s,W,'c', linestyle = '--',linewidth = 5, label = 'numerical')\n",
    "    #plot(s,V,'r', linestyle = ':', linewidth = 3, label = 'exact')\n",
    "    #title('W(x) at time = ' + str(round(time, 2)))\n",
    "    #axis((90, 150, 0, 45))\n",
    "    #legend()\n",
    "    #pause(0.001)\n",
    "plot(t,time_error,linestyle='--',linewidth = 1.8, label='RK4')\n",
    "legend()"
   ]
  },
  {
   "cell_type": "code",
   "execution_count": 234,
   "id": "765196f4",
   "metadata": {},
   "outputs": [],
   "source": [
    "# AB3 -> 왜 돼?\n",
    "\n",
    "while time < t_end:\n",
    "    time = time + dt\n",
    "    \n",
    "    RK1 = aprx_func(W)\n",
    "    RK2 = aprx_func(W + dt * RK1)\n",
    "    RK3 = aprx_func(W + dt/2 * (RK1 + RK2)/2)\n",
    "    \n",
    "    \n",
    "    F = aprx_func(W)\n",
    "    F[0] = 0\n",
    "    for i in range(1, 3):\n",
    "        F[i] = W[i] + dt/6 * (RK1[i] + RK2[i] + 4*RK3[i])\n",
    "        \n",
    "    for i in range(2, N+1):\n",
    "        W[i] = W[i] + dt/12 * (23*F[i] - 16*F[i-1] + 5*F[i-2])\n",
    "    \n",
    "    W[0] = 0; W[N] = (W[N-1]-W[N-2]) + W[N-1]\n",
    "    clf()\n",
    "    plot(s, W,'-b')\n",
    "    title('W(x) at time = ' + str(round(time, 2)))\n",
    "    axis((70, 130, 0, 50))\n",
    "    pause(0.001)"
   ]
  },
  {
   "cell_type": "code",
   "execution_count": 212,
   "id": "03e545ea",
   "metadata": {},
   "outputs": [],
   "source": [
    "# AB2 -> 왜 돼?\n",
    "\n",
    "while time < t_end:\n",
    "    time = time + dt\n",
    "    \n",
    "    RK1 = aprx_func(W)\n",
    "    RK2 = aprx_func(W + dt/2 * RK1)\n",
    "    \n",
    "    F = aprx_func(W)\n",
    "    F[0] = 0\n",
    "    for i in range(1, 2):\n",
    "        F[i] = W[i] + dt*RK2[i]\n",
    "        \n",
    "    for i in range(2, N+1):\n",
    "        W[i] = W[i] + dt/2 * (3*F[i] - 1*F[i-1])\n",
    "    \n",
    "    W[0] = 0; W[N] = (W[N-1]-W[N-2]) + W[N-1]\n",
    "    clf()\n",
    "    plot(s, W,'-b')\n",
    "    title('W(x) at time = ' + str(round(time, 2)))\n",
    "    axis((70, 130, 0, 50))\n",
    "    pause(0.001)"
   ]
  },
  {
   "cell_type": "code",
   "execution_count": 274,
   "id": "44d6908d",
   "metadata": {},
   "outputs": [],
   "source": [
    "# PC3 - > 잘 안됨\n",
    "\n",
    "while time < t_end:\n",
    "    time = time + dt\n",
    "    \n",
    "    RK1 = aprx_func(W)\n",
    "    RK2 = aprx_func(W + dt * RK1)\n",
    "    RK3 = aprx_func(W + dt/2 * (RK1 + RK2)/2)\n",
    "    \n",
    "    F = aprx_func(W)\n",
    "    F[0] = 0\n",
    "    W_ = W\n",
    "    for i in range(1, 3):\n",
    "        W[i] = W[i] + dt/6 * (RK1[i] + RK2[i] + 4*RK3[i])\n",
    "        W_[i] = W[i]\n",
    "    \n",
    "            \n",
    "    \n",
    "    for i in range(2, N+1):\n",
    "        W_[i] = W[i] + dt/12 * (23*F[i] - 16*F[i-1] + 5*F[i-2])\n",
    "    \n",
    "    F_ = aprx_func(W_)\n",
    "    for i in range(1, N+1):\n",
    "        W[i] = W[i] + dt/12 * (5*F_[i] + 8*F[i] - F[i-1])\n",
    "    \n",
    "    W[0] = 0; W[N] = (W[N-1]-W[N-2]) + W[N-1]\n",
    "    clf()\n",
    "    plot(s, W,'-b')\n",
    "    title('W(x) at time = ' + str(round(time, 2)))\n",
    "    axis((70, 130, 0, 50))\n",
    "    pause(0.001)"
   ]
  },
  {
   "cell_type": "code",
   "execution_count": null,
   "id": "19657d80",
   "metadata": {},
   "outputs": [],
   "source": []
  }
 ],
 "metadata": {
  "kernelspec": {
   "display_name": "Python 3 (ipykernel)",
   "language": "python",
   "name": "python3"
  },
  "language_info": {
   "codemirror_mode": {
    "name": "ipython",
    "version": 3
   },
   "file_extension": ".py",
   "mimetype": "text/x-python",
   "name": "python",
   "nbconvert_exporter": "python",
   "pygments_lexer": "ipython3",
   "version": "3.9.7"
  }
 },
 "nbformat": 4,
 "nbformat_minor": 5
}
