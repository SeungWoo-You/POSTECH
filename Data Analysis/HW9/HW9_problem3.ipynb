{
 "cells": [
  {
   "cell_type": "code",
   "execution_count": 1,
   "metadata": {},
   "outputs": [],
   "source": [
    "import numpy as np\n",
    "import matplotlib.pyplot as plt\n",
    "%matplotlib tk"
   ]
  },
  {
   "cell_type": "code",
   "execution_count": 9,
   "metadata": {},
   "outputs": [],
   "source": [
    "# 2nd derivative diffusion\n",
    "N = 100\n",
    "x = np.linspace(-1, 1, N)\n",
    "f = np.zeros(N)  # rand(N)*0.1\n",
    "dx = 2./(N-1)\n",
    "np.place(f, f == 0, 0.5)\n",
    "plt.plot(x, f, '-')\n",
    "for k in range(1000):\n",
    "    plt.clf()\n",
    "    ftmp = np.zeros(N)\n",
    "    for i in range(1, N-1):\n",
    "        tmp = (f[i-1] - 2*f[i] + f[i+1])/dx**2\n",
    "        ftmp[i] = f[i] + 0.0002*tmp\n",
    "    ftmp[0] = 0\n",
    "    ftmp[-1] = 1\n",
    "    f = ftmp\n",
    "    plt.plot(x, f, '-')\n",
    "    plt.axis((-1, 1, 0, 1))\n",
    "    plt.pause(0.01)"
   ]
  },
  {
   "cell_type": "code",
   "execution_count": null,
   "metadata": {},
   "outputs": [],
   "source": []
  }
 ],
 "metadata": {
  "kernelspec": {
   "display_name": "HW_MATH",
   "language": "python",
   "name": "python3"
  },
  "language_info": {
   "codemirror_mode": {
    "name": "ipython",
    "version": 3
   },
   "file_extension": ".py",
   "mimetype": "text/x-python",
   "name": "python",
   "nbconvert_exporter": "python",
   "pygments_lexer": "ipython3",
   "version": "3.11.5"
  }
 },
 "nbformat": 4,
 "nbformat_minor": 2
}
