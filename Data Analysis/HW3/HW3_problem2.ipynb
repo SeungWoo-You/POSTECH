{
 "cells": [
  {
   "cell_type": "code",
   "execution_count": 126,
   "metadata": {},
   "outputs": [],
   "source": [
    "import numpy as np\n",
    "import matplotlib.pyplot as plt\n",
    "%matplotlib tk\n"
   ]
  },
  {
   "cell_type": "code",
   "execution_count": 127,
   "metadata": {},
   "outputs": [],
   "source": [
    "# 2D CA for epidemics\n",
    "Nr = 200  # number of rows of 2D domain\n",
    "Nc = 200  # number of columns of 2D domain\n",
    "T = 100  # final time\n",
    "recovery = 14  # number of days to recover\n",
    "N = Nr * Nc\n",
    "s = np.zeros((Nr, Nc))  # status\n",
    "R = np.zeros((Nr, Nc))  # recovery control\n",
    "SP = np.zeros(T)\n",
    "RP = np.zeros(T)\n",
    "IP = np.zeros(T)\n",
    "Ic = np.zeros(T)\n",
    "NP = np.zeros(T)\n",
    "sd = 0.5  # social distancing\n"
   ]
  },
  {
   "cell_type": "code",
   "execution_count": 128,
   "metadata": {},
   "outputs": [],
   "source": [
    "def count(t: int) -> None:\n",
    "    for row in s:\n",
    "        for x in row:\n",
    "            if x == 0:\n",
    "                SP[t] += 1\n",
    "            elif x == 1:\n",
    "                IP[t] += 1\n",
    "            elif x == 2:\n",
    "                RP[t] += 1\n"
   ]
  },
  {
   "cell_type": "code",
   "execution_count": 129,
   "metadata": {},
   "outputs": [
    {
     "data": {
      "text/plain": [
       "'fig, ax1 = plt.subplots()\\nax2 = ax1.twinx()\\nax1.plot(range(T), SP, \\'b\\', label=\\'Susceptible\\')\\nax1.plot(range(T), Ic, \\'darkred\\', label=\\'Cumulative infected\\')\\nax1.plot(range(T), RP, \\'g\\', label=\\'Recovered\\')\\nax1.plot(range(T), IP, \\'r\\', label=\\'Infected\\')\\nax2.plot(range(T), NP, \\'gold\\', label=\\'Daily infected\\')\\nax1.set_xlabel(\\'day\\')\\nax1.set_ylabel(\\'population\\')\\nax2.set_ylabel(\\'daily infected\\', color=\\'gold\\')\\nax2.set_ylim(0, 500)\\nplt.title(\"Problem 2 - (a)\")\\n\\nfig.legend()\\nplt.show()'"
      ]
     },
     "execution_count": 129,
     "metadata": {},
     "output_type": "execute_result"
    }
   ],
   "source": [
    "for i in range(20):\n",
    "    indr = np.random.randint(1, Nr - 2)\n",
    "    indc = np.random.randint(1, Nc - 2)\n",
    "    s[indr, indc] = 1\n",
    "    R[indr, indc] = 1\n",
    "D = np.zeros((Nr, Nc))\n",
    "count(0)\n",
    "Ic[0] = NP[0] = IP[0]\n",
    "for t in range(1, T):\n",
    "    for i in range(Nc):\n",
    "        for j in range(Nr):\n",
    "            D[i, j] = s[i, j]\n",
    "    for i in range(1, Nc - 1):\n",
    "        for j in range(1, Nr - 1):\n",
    "            if s[i, j] == 0:\n",
    "                num_inf = 0\n",
    "                # von Neumann neighbors\n",
    "                for n in [s[i + 1, j], s[i - 1, j], s[i, j + 1], s[i, j - 1]]:\n",
    "                    if n == 1:\n",
    "                        num_inf = num_inf + 1\n",
    "                p = num_inf / 4 * sd\n",
    "                tmp = np.random.rand()\n",
    "                if tmp <= p:\n",
    "                    D[i, j] = 1\n",
    "                    NP[t] = NP[t] + 1\n",
    "                    R[i, j] = 1\n",
    "            if s[i, j] == 1:\n",
    "                R[i, j] = R[i, j] + 1\n",
    "                R[i, j] = min(recovery, R[i, j])\n",
    "            if R[i, j] == recovery:\n",
    "                D[i, j] = 2\n",
    "    for i in range(Nc):\n",
    "        for j in range(Nr):\n",
    "            s[i, j] = D[i, j]\n",
    "    count(t)\n",
    "    Ic[t] = Ic[t - 1] + NP[t]\n",
    "    plt.clf()\n",
    "    plt.imshow(s, vmin=0, vmax=2)\n",
    "    plt.pause(0.01)\n",
    "\"\"\"fig, ax1 = plt.subplots()\n",
    "ax2 = ax1.twinx()\n",
    "ax1.plot(range(T), SP, 'b', label='Susceptible')\n",
    "ax1.plot(range(T), Ic, 'darkred', label='Cumulative infected')\n",
    "ax1.plot(range(T), RP, 'g', label='Recovered')\n",
    "ax1.plot(range(T), IP, 'r', label='Infected')\n",
    "ax2.plot(range(T), NP, 'gold', label='Daily infected')\n",
    "ax1.set_xlabel('day')\n",
    "ax1.set_ylabel('population')\n",
    "ax2.set_ylabel('daily infected', color='gold')\n",
    "ax2.set_ylim(0, 500)\n",
    "plt.title(\"Problem 2 - (a)\")\n",
    "\n",
    "fig.legend()\n",
    "plt.show()\"\"\"\n"
   ]
  }
 ],
 "metadata": {
  "kernelspec": {
   "display_name": "HW_MATH",
   "language": "python",
   "name": "python3"
  },
  "language_info": {
   "codemirror_mode": {
    "name": "ipython",
    "version": 3
   },
   "file_extension": ".py",
   "mimetype": "text/x-python",
   "name": "python",
   "nbconvert_exporter": "python",
   "pygments_lexer": "ipython3",
   "version": "3.10.4"
  },
  "orig_nbformat": 4
 },
 "nbformat": 4,
 "nbformat_minor": 2
}
