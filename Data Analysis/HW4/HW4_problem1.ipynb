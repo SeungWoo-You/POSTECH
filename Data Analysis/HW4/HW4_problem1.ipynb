{
 "cells": [
  {
   "cell_type": "code",
   "execution_count": 5,
   "metadata": {},
   "outputs": [],
   "source": [
    "from numpy import *\n",
    "from matplotlib.pyplot import *\n",
    "from random import *\n",
    "%matplotlib tk\n"
   ]
  },
  {
   "cell_type": "code",
   "execution_count": 6,
   "metadata": {},
   "outputs": [],
   "source": [
    "# Matching Gaussian\n",
    "Np = 50000\n",
    "Nf = 100\n",
    "Px = zeros(Np)\n",
    "CONST = 1\n",
    "P = zeros((Np, CONST * Nf))\n",
    "for time in range(CONST * Nf):\n",
    "    for p in range(Np):\n",
    "        R = random()\n",
    "        \"\"\"if R <= 0.5:\n",
    "            Px[p] = Px[p] + 1\n",
    "        else:\n",
    "            Px[p] = Px[p] - 1\"\"\"\n",
    "        if R <= 1/3:\n",
    "            Px[p] = Px[p]+1\n",
    "        elif R > 1/3 and R <= 2/3:\n",
    "            Px[p] = Px[p]-1\n",
    "        else:\n",
    "            Px[p] = Px[p]\n",
    "    P[:, time] = Px\n",
    "    avePx = mean(Px)\n",
    "    varPx = mean(Px*Px) - avePx**2\n"
   ]
  },
  {
   "cell_type": "code",
   "execution_count": 8,
   "metadata": {},
   "outputs": [
    {
     "name": "stdout",
     "output_type": "stream",
     "text": [
      "(201, 100)\n",
      "(201,)\n",
      "[[100. 100. 101. ...  93.  94.  95.]\n",
      " [100. 101. 102. ... 116. 116. 117.]\n",
      " [100.  99.  98. ...  84.  83.  82.]\n",
      " ...\n",
      " [100. 101. 101. ...  92.  93.  94.]\n",
      " [101. 102. 101. ... 100.  99.  99.]\n",
      " [100. 100.  99. ... 105. 105. 105.]] (50000, 100)\n"
     ]
    }
   ],
   "source": [
    "# Distribution\n",
    "# using normal distribution\n",
    "# we want to check wether this random distribution is # same as Gaussian\n",
    "Ds = zeros((2*Nf + 1, CONST * Nf))\n",
    "print(Ds.shape)\n",
    "print(linspace(-Nf, Nf, 2 * Nf+1).shape)\n",
    "In = P + Nf\n",
    "print(In, shape(In))\n",
    "In = In.astype('int')\n",
    "for k in range(CONST * Nf):\n",
    "    for j in range(Np):\n",
    "        Ds[In[j, k], k] = Ds[In[j, k], k] + 1\n",
    "    clf()\n",
    "    mu = sum(P[:, k])/Np\n",
    "    varPx = sum(P[:, k]**2)/Np - mu**2\n",
    "    sig = sqrt(varPx)\n",
    "    xi = linspace(-Nf, Nf, 1000)\n",
    "    f = 1/sig/sqrt(2*pi)*exp(-0.5*((xi-mu)/sig)**2)\n",
    "    plot(linspace(-Nf, Nf, 2 * Nf+1),\n",
    "         Ds[:, k]/Np, 'm.', label='approximation')\n",
    "    plot(xi, f, '-b', label='exact')\n",
    "    #axis((-Nf, Nf, 0, 0.5))\n",
    "    title(\"3-choice walk\")\n",
    "    legend()\n",
    "    pause(0.01)\n"
   ]
  },
  {
   "cell_type": "code",
   "execution_count": null,
   "metadata": {},
   "outputs": [],
   "source": []
  }
 ],
 "metadata": {
  "kernelspec": {
   "display_name": "HW_MATH",
   "language": "python",
   "name": "python3"
  },
  "language_info": {
   "codemirror_mode": {
    "name": "ipython",
    "version": 3
   },
   "file_extension": ".py",
   "mimetype": "text/x-python",
   "name": "python",
   "nbconvert_exporter": "python",
   "pygments_lexer": "ipython3",
   "version": "3.10.4"
  }
 },
 "nbformat": 4,
 "nbformat_minor": 2
}
