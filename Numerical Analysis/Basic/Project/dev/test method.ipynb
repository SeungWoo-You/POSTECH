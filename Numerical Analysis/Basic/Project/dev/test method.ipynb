{
 "cells": [
  {
   "cell_type": "code",
   "execution_count": 41,
   "id": "c6fa7503",
   "metadata": {},
   "outputs": [],
   "source": [
    "from numpy import *\n",
    "from pylab import *\n",
    "from math import erf\n",
    "import pandas as pd"
   ]
  },
  {
   "cell_type": "code",
   "execution_count": 42,
   "id": "7ea919bb",
   "metadata": {},
   "outputs": [
    {
     "name": "stdout",
     "output_type": "stream",
     "text": [
      "Using matplotlib backend: Qt5Agg\n",
      "Populating the interactive namespace from numpy and matplotlib\n"
     ]
    }
   ],
   "source": [
    "%pylab"
   ]
  },
  {
   "cell_type": "code",
   "execution_count": 43,
   "id": "b810844d",
   "metadata": {},
   "outputs": [],
   "source": [
    "# constant cell\n",
    "\n",
    "r = 0.07\n",
    "sigma = 0.09\n",
    "k = 120\n",
    "\n",
    "N = 70\n",
    "s_start = 0\n",
    "s_end = 490\n",
    "s = linspace(s_start, s_end, N + 1)\n",
    "ds = abs(s_end - s_start)/N  # ds, uniform grid\n",
    "\n",
    "M = 100\n",
    "t_start = 0\n",
    "t_end = 1  # T\n",
    "time = 0\n",
    "dt = abs(t_end - t_start)/M  # dt, uniform grid"
   ]
  },
  {
   "cell_type": "code",
   "execution_count": 44,
   "id": "c11a6428",
   "metadata": {},
   "outputs": [],
   "source": [
    "# function cell for Euler's method\n",
    "\n",
    "V = [0 for i in range(N + 1)]  # exact solution V(s, T-t)\n",
    "W = [0 for i in range(N + 1)]  # numerical solution W(s, T-t)\n",
    "b = [0 for i in range(N + 1)]\n",
    "c = [0 for i in range(N + 1)]  # coefficient list\n",
    "row_vector = [0 for i in range(N + 1)]\n",
    "v_vector = [0 for i in range(N + 1)]\n",
    "row_vector[0] = ds; row_vector[1] = 4*ds; row_vector[2] = ds;  # consider N > 2\n",
    "spl_matrix = []\n",
    "s_second_partial = [0 for i in range(N + 1)]\n",
    "s_first_partial = [0 for i in range(N + 1)]"
   ]
  },
  {
   "cell_type": "code",
   "execution_count": 45,
   "id": "d16fb0d3",
   "metadata": {},
   "outputs": [],
   "source": [
    "def s_(i):\n",
    "    return s_start + i*ds\n",
    "\n",
    "def spline(s, i):\n",
    "    return W[i] + ((W[i+1]-W[i])/ds - ds/3*(2*c[i]+c[i+1]))*(s-s_(i)) + c[i]*(s-s_(i))**2 + (c[i+1]-c[i])/(3*ds)*(s-s_(i))**3\n",
    "\n",
    "def rotate(arr, n):\n",
    "    n %= len(arr)\n",
    "    if not n:\n",
    "        return arr\n",
    "    \n",
    "    left = arr[:-n]\n",
    "    right = arr[-n:]\n",
    "    \n",
    "    return right + left\n",
    "\n",
    "def normal_dist(x):\n",
    "    return (1.0 + erf(x / sqrt(2.0))) / 2.0\n",
    "\n",
    "def CDF(t, idx):\n",
    "    arr = [0 for i in range(N + 1)]\n",
    "    for i in range(1, N+1):\n",
    "        if idx == 1:\n",
    "            arr[i] = normal_dist((log(s[i]/k) + (r + sigma**2 / 2)*t)/(sigma*sqrt(t)))\n",
    "            #sym.erf((log(s[i]/k) + (r + sigma**2 / 2)*t)/(sigma*sqrt(t)))\n",
    "        else:\n",
    "            arr[i] = normal_dist((log(s[i]/k) + (r - sigma**2 / 2)*t)/(sigma*sqrt(t)))\n",
    "            #sym.erf((log(s[i]/k) + (r - sigma**2 / 2)*t)/(sigma*sqrt(t)))\n",
    "            \n",
    "    return arr\n",
    "\n",
    "def exact_func(t):\n",
    "    return s*float_(CDF(t,1)) - k*exp(-r*t)*float_(CDF(t,2))"
   ]
  },
  {
   "cell_type": "code",
   "execution_count": 46,
   "id": "9ec3529c",
   "metadata": {},
   "outputs": [
    {
     "name": "stdout",
     "output_type": "stream",
     "text": [
      "1 0 0 0 \n",
      "163.33333333333334 653.3333333333334 163.33333333333334 0 \n",
      "0 163.33333333333334 653.3333333333334 163.33333333333334 \n",
      "0 0 0 1 \n",
      "400166.666666667\n"
     ]
    }
   ],
   "source": [
    "row_end = [0 for i in range(N + 1)]\n",
    "row_end[0] = 1\n",
    "spl_matrix.append(row_end)\n",
    "spl_matrix.append(row_vector)\n",
    "\n",
    "for i in range(2,N):\n",
    "    row_vector = rotate(row_vector,1)\n",
    "    spl_matrix.append(row_vector)\n",
    "    \n",
    "row_end = [0 for i in range(N + 1)]\n",
    "row_end[N] = 1\n",
    "spl_matrix.append(row_end)"
   ]
  },
  {
   "cell_type": "code",
   "execution_count": 99,
   "id": "fe9373c3",
   "metadata": {
    "scrolled": true
   },
   "outputs": [],
   "source": [
    "time = 0\n",
    "clf()\n",
    "for i in range(N+1):\n",
    "    if (s_start + i*ds) >= k:\n",
    "        W[i] = s_start + i*ds - k\n",
    "        V[i] = W[i]\n",
    "    else:\n",
    "        W[i] = 0\n",
    "        V[i] = W[i]\n",
    "        \n",
    "plot(s,W,'c', linestyle = '--',linewidth = 5, label = 'numerical')\n",
    "plot(s,V,'r', linestyle = ':', linewidth = 3, label = 'exact')\n",
    "title('W(x) at time = ' + str(round(time, 2)))\n",
    "legend()\n",
    "axis((90, 150, 0, 45))\n",
    "pause(1)\n",
    "\n",
    "while time < t_end:\n",
    "    time = time + dt\n",
    "    \n",
    "    for i in range(1,N):\n",
    "        v_vector[i] = 3/ds*(W[i+1] - 2*W[i] + W[i-1])\n",
    "    v_vector[0] = 0; v_vector[N] = 0\n",
    "    \n",
    "    c = linalg.solve(spl_matrix, v_vector)\n",
    "    \n",
    "    c[0] = 0; c[N] = 0\n",
    "    \n",
    "    for i in range(N):\n",
    "        b[i] = (W[i+1]-W[i])/ds - ds/3*(2*c[i]+c[i+1])\n",
    "    b[0] = 0; b[N] = 1\n",
    "    \n",
    "    W = W + dt*(r*float_(s)*float_(b) + 1/2*sigma**2*s**2*2*c - r*float_(W))\n",
    "    W[0] = 0; W[N] = (W[N-1]-W[N-2]) + W[N-1]\n",
    "    \n",
    "    V = exact_func(time)\n",
    "\n",
    "    clf()\n",
    "    plot(s,W,'c', linestyle = '--',linewidth = 5, label = 'numerical')\n",
    "    plot(s,V,'r', linestyle = ':', linewidth = 3, label = 'exact')\n",
    "    title('W(x) at time = ' + str(round(time, 2)))\n",
    "    axis((90, 150, 0, 45))\n",
    "    legend()\n",
    "    pause(0.001)"
   ]
  },
  {
   "cell_type": "code",
   "execution_count": 354,
   "id": "d64729c9",
   "metadata": {},
   "outputs": [],
   "source": []
  },
  {
   "cell_type": "code",
   "execution_count": null,
   "id": "11093422",
   "metadata": {},
   "outputs": [],
   "source": []
  }
 ],
 "metadata": {
  "kernelspec": {
   "display_name": "Python 3 (ipykernel)",
   "language": "python",
   "name": "python3"
  },
  "language_info": {
   "codemirror_mode": {
    "name": "ipython",
    "version": 3
   },
   "file_extension": ".py",
   "mimetype": "text/x-python",
   "name": "python",
   "nbconvert_exporter": "python",
   "pygments_lexer": "ipython3",
   "version": "3.9.7"
  }
 },
 "nbformat": 4,
 "nbformat_minor": 5
}
