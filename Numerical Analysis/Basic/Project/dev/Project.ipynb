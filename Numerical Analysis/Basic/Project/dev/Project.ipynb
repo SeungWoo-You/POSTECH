{
 "cells": [
  {
   "cell_type": "code",
   "execution_count": 259,
   "id": "effedc6c",
   "metadata": {},
   "outputs": [],
   "source": [
    "from numpy import *\n",
    "from pylab import *\n",
    "from math import erf\n",
    "import pandas as pd"
   ]
  },
  {
   "cell_type": "code",
   "execution_count": 260,
   "id": "f36b8825",
   "metadata": {},
   "outputs": [
    {
     "name": "stdout",
     "output_type": "stream",
     "text": [
      "Using matplotlib backend: Qt5Agg\n",
      "Populating the interactive namespace from numpy and matplotlib\n"
     ]
    },
    {
     "name": "stderr",
     "output_type": "stream",
     "text": [
      "D:\\Program Files (x86)\\anaconda3\\lib\\site-packages\\IPython\\core\\magics\\pylab.py:159: UserWarning: pylab import has clobbered these variables: ['linalg', 'fft', 'random', 'power']\n",
      "`%matplotlib` prevents importing * from pylab and numpy\n",
      "  warn(\"pylab import has clobbered these variables: %s\"  % clobbered +\n"
     ]
    }
   ],
   "source": [
    "%pylab"
   ]
  },
  {
   "cell_type": "code",
   "execution_count": 261,
   "id": "ccc90a11",
   "metadata": {},
   "outputs": [],
   "source": [
    "# constant cell\n",
    "\n",
    "r = 0.12\n",
    "sigma = 0.1\n",
    "k = 100\n",
    "\n",
    "N = 100\n",
    "s_start = 0\n",
    "s_end = 300\n",
    "s = linspace(s_start, s_end, N + 1)\n",
    "ds = abs(s_end - s_start)/N  # ds, uniform grid\n",
    "\n",
    "M = 20\n",
    "t_start = 0\n",
    "t_end = 1  # T\n",
    "time = 0\n",
    "t = linspace(t_start, t_end, M + 1)\n",
    "dt = abs(t_end - t_start)/M  # dt, uniform grid"
   ]
  },
  {
   "cell_type": "code",
   "execution_count": 262,
   "id": "73e66067",
   "metadata": {},
   "outputs": [],
   "source": [
    "# function cell for Euler's method\n",
    "\n",
    "V = [0 for i in range(N + 1)]  # exact solution V(s, T-t)\n",
    "W = [0 for i in range(N + 1)]  # numerical solution W(s, T-t)\n",
    "s_second_partial = [0 for i in range(N + 1)]\n",
    "s_first_partial = [0 for i in range(N + 1)]\n",
    "time_error = [0 for i in range(M + 1)]"
   ]
  },
  {
   "cell_type": "code",
   "execution_count": 263,
   "id": "771be4df",
   "metadata": {},
   "outputs": [],
   "source": [
    "def aprx_func(W):\n",
    "    for i in range(1,N):\n",
    "        s_second_partial[i] = (W[i+1] - 2*W[i] + W[i-1])/ds**2 # midpoint formula for second order\n",
    "        s_first_partial[i] = (W[i+1] - W[i-1])/(2*ds) # midpoint formula for first order\n",
    "        \n",
    "    s_second_partial[0] = 0; s_second_partial[N] = 0\n",
    "    s_first_partial[0] = 0; s_first_partial[N] = 1\n",
    "    \n",
    "    return 1/2 * sigma**2 * (s*s)*s_second_partial + r*s*s_first_partial - r*float_(W)\n",
    "\n",
    "def normal_dist(x):\n",
    "    return (1.0 + erf(x / sqrt(2.0))) / 2.0\n",
    "\n",
    "def CDF(t, idx):\n",
    "    arr = [0 for i in range(N + 1)]\n",
    "    for i in range(1, N+1):\n",
    "        if idx == 1:\n",
    "            arr[i] = normal_dist((log(s[i]/k) + (r + sigma**2 / 2)*t)/(sigma*sqrt(t)))\n",
    "            #sym.erf((log(s[i]/k) + (r + sigma**2 / 2)*t)/(sigma*sqrt(t)))\n",
    "        else:\n",
    "            arr[i] = normal_dist((log(s[i]/k) + (r - sigma**2 / 2)*t)/(sigma*sqrt(t)))\n",
    "            #sym.erf((log(s[i]/k) + (r - sigma**2 / 2)*t)/(sigma*sqrt(t)))\n",
    "            \n",
    "    return arr\n",
    "\n",
    "def exact_func(t):\n",
    "    return s*float_(CDF(t,1)) - k*exp(-r*t)*float_(CDF(t,2))"
   ]
  },
  {
   "cell_type": "code",
   "execution_count": 264,
   "id": "e49dd821",
   "metadata": {},
   "outputs": [
    {
     "data": {
      "text/plain": [
       "<matplotlib.legend.Legend at 0x20ede3d3c70>"
      ]
     },
     "execution_count": 264,
     "metadata": {},
     "output_type": "execute_result"
    }
   ],
   "source": [
    "# Finite difference method\n",
    "# Euler's method for ODE\n",
    "\n",
    "time = 0\n",
    "clf()\n",
    "for i in range(N+1):\n",
    "    if (s_start + i*ds) >= k:\n",
    "        W[i] = s_start + i*ds - k\n",
    "        V[i] = W[i]\n",
    "    else:\n",
    "        W[i] = 0\n",
    "        V[i] = W[i]\n",
    "        \n",
    "#plot(s,W,'c', linestyle = '--',linewidth = 5, label = 'numerical')\n",
    "#plot(s,V,'r', linestyle = ':', linewidth = 3, label = 'exact')\n",
    "#title('W(x) at time = ' + str(round(time, 2)))\n",
    "#legend()\n",
    "#axis((90, 150, 0, 45))\n",
    "#pause(1)\n",
    "e = 1\n",
    "while time < t_end:\n",
    "    time = time + dt\n",
    "    \n",
    "    W = W + dt*aprx_func(W) # answer fuction\n",
    "    W[0] = 0; W[N] = (W[N-1]-W[N-2]) + W[N-1]  # initial condition: V(0,t) = 0, V(s_end,t) ~ s_end\n",
    "    \n",
    "    V = exact_func(time)\n",
    "    time_error[M-e] = sum(abs(V-W))\n",
    "    \n",
    "    e=e+1\n",
    "    #clf()\n",
    "    #plot(s,W,'c', linestyle = '--',linewidth = 5, label = 'numerical')\n",
    "    #plot(s,V,'r', linestyle = ':', linewidth = 3, label = 'exact')\n",
    "    #title('W(x) at time = ' + str(round(time, 2)))\n",
    "    #axis((90, 150, 0, 45))\n",
    "    #legend()\n",
    "    #pause(0.001)\n",
    "plot(t,time_error,linestyle='--',linewidth = 1.8, label='Euler')\n",
    "legend()"
   ]
  },
  {
   "cell_type": "code",
   "execution_count": 256,
   "id": "a9347f8b",
   "metadata": {},
   "outputs": [
    {
     "data": {
      "text/plain": [
       "<matplotlib.legend.Legend at 0x20ede3a2910>"
      ]
     },
     "execution_count": 256,
     "metadata": {},
     "output_type": "execute_result"
    }
   ],
   "source": [
    "time = 0\n",
    "\n",
    "def aprx_(w, W):\n",
    "    for i in range(1,N):\n",
    "        s_second_partial[i] = (w[i+1] - 2*w[i] + w[i-1])/ds**2 # midpoint formula for second order\n",
    "        s_first_partial[i] = (w[i+1] - w[i-1])/(2*ds) # midpoint formula for first order\n",
    "        \n",
    "    s_second_partial[0] = 0; s_second_partial[N] = 0\n",
    "    s_first_partial[0] = 0; s_first_partial[N] = 1\n",
    "    \n",
    "    return 1/2 * sigma**2 * (s*s)*s_second_partial + r*s*s_first_partial - r*float_(W)\n",
    "\n",
    "\n",
    "for i in range(N+1):\n",
    "    if (s_start + i*ds) >= k:\n",
    "        W[i] = s_start + i*ds - k\n",
    "        V[i] = W[i]\n",
    "    else:\n",
    "        W[i] = 0\n",
    "        V[i] = W[i]\n",
    "        \n",
    "e = 1\n",
    "while time < t_end:\n",
    "    time = time + dt\n",
    "    \n",
    "    RK1 = aprx_(W,W)\n",
    "    RK2 = aprx_(W,W + dt/2 * RK1)\n",
    "    \n",
    "    W = W + dt*RK2\n",
    "    W[0] = 0; W[N] = (W[N-1]-W[N-2]) + W[N-1]\n",
    "    \n",
    "    V = exact_func(time)\n",
    "    time_error[M-e] = sum(abs(V-W))\n",
    "    \n",
    "    e=e+1\n",
    "plot(t,time_error,linestyle='--',linewidth = 1.8, label='RK2')\n",
    "legend()"
   ]
  },
  {
   "cell_type": "code",
   "execution_count": 215,
   "id": "e99f71eb",
   "metadata": {},
   "outputs": [
    {
     "data": {
      "text/plain": [
       "<matplotlib.legend.Legend at 0x20edd399d90>"
      ]
     },
     "execution_count": 215,
     "metadata": {},
     "output_type": "execute_result"
    }
   ],
   "source": [
    "clf()\n",
    "N = 10\n",
    "n = linspace(0,N,N+1)\n",
    "dx = 1\n",
    "V = exp(n)\n",
    "W = [0 for i in range(N+1)]\n",
    "W[0] = 1\n",
    "for i in range(N):\n",
    "    RK1 = W[i]\n",
    "    RK2 = W[i] + dx*RK1\n",
    "    \n",
    "    W[i+1] = W[i] + dx*(RK1/2 + RK2/2)\n",
    "    \n",
    "    \n",
    "error = abs(V-W)\n",
    "#plot(n,V,linestyle='--',linewidth = 1.8, label='exact')\n",
    "plot(n,error,linestyle='--',linewidth = 1.8, label='nume')\n",
    "legend()"
   ]
  },
  {
   "cell_type": "code",
   "execution_count": 216,
   "id": "73d8ce45",
   "metadata": {},
   "outputs": [
    {
     "data": {
      "text/plain": [
       "<matplotlib.legend.Legend at 0x20edd9b5730>"
      ]
     },
     "execution_count": 216,
     "metadata": {},
     "output_type": "execute_result"
    }
   ],
   "source": [
    "N = 10\n",
    "n = linspace(0,N,N+1)\n",
    "dx = 1\n",
    "V = exp(n)\n",
    "W = [0 for i in range(N+1)]\n",
    "W[0] = 1\n",
    "for i in range(N):\n",
    "    RK1 = W[i]\n",
    "    RK2 = W[i] + dx*RK1\n",
    "    RK3 = W[i] + dx/2*(RK1+RK2)/2\n",
    "    \n",
    "    W[i+1] = W[i] + dx/6 * (RK1 + RK2 + 4*RK3)\n",
    "    \n",
    "    \n",
    "error = abs(V-W)\n",
    "plot(n,error,linestyle='--',linewidth = 1.8, label='numedd')\n",
    "legend()"
   ]
  },
  {
   "cell_type": "code",
   "execution_count": 227,
   "id": "59f47fc7",
   "metadata": {},
   "outputs": [
    {
     "data": {
      "text/plain": [
       "<matplotlib.legend.Legend at 0x20eddd187c0>"
      ]
     },
     "execution_count": 227,
     "metadata": {},
     "output_type": "execute_result"
    }
   ],
   "source": [
    "N = 10\n",
    "n = linspace(0,N,N+1)\n",
    "dx = 1\n",
    "V = exp(n)\n",
    "W = [0 for i in range(N+1)]\n",
    "W[0] = 1\n",
    "for i in range(N):\n",
    "    RK1 = W[i]\n",
    "    RK2 = W[i] + dx/2*RK1\n",
    "    RK3 = W[i] + dx/2*RK2\n",
    "    RK4 = W[i] + dx*RK3\n",
    "    \n",
    "    W[i+1] = W[i] + dx/6 * (RK1 + 2*RK2 + 2*RK3 + RK4)\n",
    "    \n",
    "    \n",
    "error = abs(V-W)\n",
    "plot(n,error,linestyle='--',linewidth = 1.8, label='numeddddd')\n",
    "legend()"
   ]
  },
  {
   "cell_type": "code",
   "execution_count": 257,
   "id": "12a32d5f",
   "metadata": {},
   "outputs": [
    {
     "data": {
      "text/plain": [
       "<matplotlib.legend.Legend at 0x20ede3ad9d0>"
      ]
     },
     "execution_count": 257,
     "metadata": {},
     "output_type": "execute_result"
    }
   ],
   "source": [
    "time = 0\n",
    "\n",
    "for i in range(N+1):\n",
    "    if (s_start + i*ds) >= k:\n",
    "        W[i] = s_start + i*ds - k\n",
    "        V[i] = W[i]\n",
    "    else:\n",
    "        W[i] = 0\n",
    "        V[i] = W[i]\n",
    "        \n",
    "e = 1\n",
    "while time < t_end:\n",
    "    time = time + dt\n",
    "    \n",
    "    RK1 = aprx_(W,W)\n",
    "    RK2 = aprx_(W,W + dt * RK1)\n",
    "    RK3 = aprx_(W + dt/2 * (RK1 + RK2)/2)\n",
    "    \n",
    "    W = W + dt/6 * (RK1 + RK2 + 4*RK3)\n",
    "    W[0] = 0; W[N] = (W[N-1]-W[N-2]) + W[N-1]\n",
    "    \n",
    "    V = exact_func(time)\n",
    "    time_error[M-e] = sum(abs(V-W))\n",
    "    \n",
    "    e=e+1\n",
    "plot(t,time_error,linestyle='--',linewidth = 1.8, label='RK3')\n",
    "legend()"
   ]
  },
  {
   "cell_type": "code",
   "execution_count": 258,
   "id": "7a3fae31",
   "metadata": {},
   "outputs": [
    {
     "data": {
      "text/plain": [
       "<matplotlib.legend.Legend at 0x20ede3a28e0>"
      ]
     },
     "execution_count": 258,
     "metadata": {},
     "output_type": "execute_result"
    }
   ],
   "source": [
    "time = 0\n",
    "\n",
    "for i in range(N+1):\n",
    "    if (s_start + i*ds) >= k:\n",
    "        W[i] = s_start + i*ds - k\n",
    "        V[i] = W[i]\n",
    "    else:\n",
    "        W[i] = 0\n",
    "        V[i] = W[i]\n",
    "        \n",
    "e = 1\n",
    "while time < t_end:\n",
    "    time = time + dt\n",
    "    \n",
    "    RK1 = aprx_(W,W)\n",
    "    RK2 = aprx_(W,W + dt/2 * RK1)\n",
    "    RK3 = aprx_(W,W + dt/2 * RK2)\n",
    "    RK4 = aprx_(W,W + dt * RK3)\n",
    "    \n",
    "    W = W + dt/6 * (RK1 + 2*RK2 + 2*RK3 + RK4)\n",
    "    W[0] = 0; W[N] = (W[N-1]-W[N-2]) + W[N-1]\n",
    "    \n",
    "    V = exact_func(time)\n",
    "\n",
    "    time_error[M-e] = sum(abs(V-W))\n",
    "    \n",
    "    e=e+1\n",
    "plot(t,time_error,linestyle='--',linewidth = 1.8, label='RK4')\n",
    "legend()"
   ]
  },
  {
   "cell_type": "code",
   "execution_count": null,
   "id": "f5a50af2",
   "metadata": {},
   "outputs": [],
   "source": []
  }
 ],
 "metadata": {
  "kernelspec": {
   "display_name": "Python 3 (ipykernel)",
   "language": "python",
   "name": "python3"
  },
  "language_info": {
   "codemirror_mode": {
    "name": "ipython",
    "version": 3
   },
   "file_extension": ".py",
   "mimetype": "text/x-python",
   "name": "python",
   "nbconvert_exporter": "python",
   "pygments_lexer": "ipython3",
   "version": "3.9.7"
  }
 },
 "nbformat": 4,
 "nbformat_minor": 5
}
